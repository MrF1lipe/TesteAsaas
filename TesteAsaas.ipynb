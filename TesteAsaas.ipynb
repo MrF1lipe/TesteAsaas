{
 "cells": [
  {
   "cell_type": "markdown",
   "id": "d5c57267",
   "metadata": {},
   "source": [
    "### Criando as variaveis inicias necessárias para as requisições"
   ]
  },
  {
   "cell_type": "code",
   "execution_count": null,
   "id": "e94b3dda",
   "metadata": {},
   "outputs": [],
   "source": [
    "public_key = 'Sua chave publica' #Chave publica disponibilizada pela marvel\n",
    "private_key = 'Sua chave privada' #Chave privada disponibilizada pela marvel\n",
    "ts = '1' #timestamp \n",
    "characters_names = ['Iron Man','Thanos'] #Lista com o nome dos personagens\n",
    "total_stories = [] #Lista que guarda todas as stories"
   ]
  },
  {
   "cell_type": "markdown",
   "id": "3c561302",
   "metadata": {},
   "source": [
    "### Gerando hash necessário para requisição"
   ]
  },
  {
   "cell_type": "code",
   "execution_count": null,
   "id": "76723136",
   "metadata": {},
   "outputs": [],
   "source": [
    "import hashlib\n",
    "str2hash = f\"{ts}{private_key}{public_key}\"\n",
    "result = hashlib.md5(str2hash.encode())\n",
    "hashh = result.hexdigest() #Hash criado por md5(ts+privateKey+publicKey)"
   ]
  },
  {
   "cell_type": "markdown",
   "id": "12392b25",
   "metadata": {},
   "source": [
    "### Construindo a lógica de cada requisição e gerando a list completa de stories"
   ]
  },
  {
   "cell_type": "code",
   "execution_count": null,
   "id": "720b9273",
   "metadata": {},
   "outputs": [],
   "source": [
    "import requests\n",
    "for name in characters_names:\n",
    "    #Fazendo requisição inicial e recuperando o ID do personagem\n",
    "    r_character = requests.get(f'https://gateway.marvel.com:443/v1/public/characters?name={name}&ts={ts}&apikey={public_key}&hash={hashh}')\n",
    "    id_character = str(r_character.json()['data']['results'][0]['id'])\n",
    "    \n",
    "    #Criando a requisição de stories para ter o total de stories a ser usado no while\n",
    "    r_stories = requests.get(f'https://gateway.marvel.com:443/v1/public/characters/{id_character}/stories?ts={ts}&apikey={public_key}&hash={hashh}')\n",
    "    total = r_stories.json()['data']['total']\n",
    "    offset = 0;\n",
    "    \n",
    "    #Gerando a lista com todas as stories do personagem\n",
    "    while(total > 0):\n",
    "        #Fezendo uma requisição com o maximo de resultados possiveis (100) e com o offset calculdo\n",
    "        r_stories = requests.get(f'https://gateway.marvel.com:443/v1/public/characters/{id_character}/stories?limit=100&offset={offset}&ts={ts}&apikey={public_key}&hash={hashh}')\n",
    "        #Salva o resultado\n",
    "        total_stories = total_stories + r_stories.json()['data']['results'] \n",
    "        #A cada requisição incremento o offset em 100 para não requisitar resultados já salvos\n",
    "        offset += 100 \n",
    "        #Decremento o valor total até que fique menor que 0\n",
    "        total -= 100 \n",
    "len(total_stories)"
   ]
  },
  {
   "cell_type": "markdown",
   "id": "30815e83",
   "metadata": {},
   "source": [
    "### Criando json com todas as stories dos personagens"
   ]
  },
  {
   "cell_type": "code",
   "execution_count": null,
   "id": "4f90d30b",
   "metadata": {},
   "outputs": [],
   "source": [
    "import json\n",
    "json_string = json.dumps(total_stories)\n",
    "json_string"
   ]
  }
 ],
 "metadata": {
  "kernelspec": {
   "display_name": "Python 3",
   "language": "python",
   "name": "python3"
  },
  "language_info": {
   "codemirror_mode": {
    "name": "ipython",
    "version": 3
   },
   "file_extension": ".py",
   "mimetype": "text/x-python",
   "name": "python",
   "nbconvert_exporter": "python",
   "pygments_lexer": "ipython3",
   "version": "3.8.8"
  }
 },
 "nbformat": 4,
 "nbformat_minor": 5
}
